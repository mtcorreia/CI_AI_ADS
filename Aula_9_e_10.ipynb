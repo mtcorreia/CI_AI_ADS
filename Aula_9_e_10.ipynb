{
  "nbformat": 4,
  "nbformat_minor": 0,
  "metadata": {
    "colab": {
      "provenance": [],
      "authorship_tag": "ABX9TyP851/3jW07QT2Eo/C7J3hn",
      "include_colab_link": true
    },
    "kernelspec": {
      "name": "python3",
      "display_name": "Python 3"
    },
    "language_info": {
      "name": "python"
    }
  },
  "cells": [
    {
      "cell_type": "markdown",
      "metadata": {
        "id": "view-in-github",
        "colab_type": "text"
      },
      "source": [
        "<a href=\"https://colab.research.google.com/github/mtcorreia/CI_AI_ADS/blob/main/Aula_9_e_10.ipynb\" target=\"_parent\"><img src=\"https://colab.research.google.com/assets/colab-badge.svg\" alt=\"Open In Colab\"/></a>"
      ]
    },
    {
      "cell_type": "markdown",
      "source": [
        "# Scikit-Learn.\n",
        "03 de Maio de 2024."
      ],
      "metadata": {
        "id": "allERZnVv997"
      }
    },
    {
      "cell_type": "markdown",
      "source": [
        "## Prevendo o preço da Pizza na cidade do Rio de Janeiro com técnicas de Regressão Linear."
      ],
      "metadata": {
        "id": "5ncAuX-byCPf"
      }
    },
    {
      "cell_type": "code",
      "execution_count": null,
      "metadata": {
        "id": "BRm7EZC3v87I"
      },
      "outputs": [],
      "source": [
        "# Importando o MatPlotLib e Numpy.\n",
        "import matplotlib.pyplot as plt\n",
        "import numpy as np\n",
        "\n",
        "%matplotlib inline"
      ]
    },
    {
      "cell_type": "code",
      "source": [
        "# Suponha que você registrou o tamanho e preço de pizzas que você comeu nos últimos meses.\n",
        "# Diâmetro (cm).\n",
        "Diametros = [[7], [10], [15], [30], [50]]\n",
        "\n",
        "# Preços (R$).\n",
        "Precos = [[8], [11], [16], [38.5], [52]]"
      ],
      "metadata": {
        "id": "CbvNftQV5crr"
      },
      "execution_count": null,
      "outputs": []
    },
    {
      "cell_type": "code",
      "source": [
        "# Visualizando os dados com plot.\n",
        "plt.figure()\n",
        "plt.xlabel('Diâmetro (cm)') # Nome do eixo X.\n",
        "plt.ylabel('Preço (R$)') # Nome do eixo Y.\n",
        "plt.title('Diâmetro x Preço') # Título do gráfico.\n",
        "plt.plot(Diametros, Precos, 'k.') # Plotando os dados de Diametros e Precos, 'k.' deixa em pontos e 'k' deixa a reta.\n",
        "plt.axis([0, 60, 0, 60]) # Quantidade de valores, 0 até 60.\n",
        "plt.grid(True) # Linha de auxílio.\n",
        "plt.show()"
      ],
      "metadata": {
        "id": "YrWXjXwG6HY1"
      },
      "execution_count": null,
      "outputs": []
    },
    {
      "cell_type": "code",
      "source": [
        "# Importando o módulo de Regressão Linear do Scikit-Learn.\n",
        "from sklearn.linear_model import LinearRegression"
      ],
      "metadata": {
        "id": "7JxzOAGW7dby"
      },
      "execution_count": null,
      "outputs": []
    },
    {
      "cell_type": "code",
      "source": [
        "# Preparando os dados de treino.\n",
        "# Chamar de X os dados de diâmetro da Pizza.\n",
        "X = [[7], [10], [15], [30], [45]]\n",
        "\n",
        "# Chamar de Y os dados de preço da Pizza.\n",
        "Y = [[8], [11], [16], [38.5], [52]]"
      ],
      "metadata": {
        "id": "uY-Mlbnf9odQ"
      },
      "execution_count": null,
      "outputs": []
    },
    {
      "cell_type": "code",
      "source": [
        "# Criando a variável do modelo.\n",
        "modelo = LinearRegression()"
      ],
      "metadata": {
        "id": "zDva9MWw-gX5"
      },
      "execution_count": null,
      "outputs": []
    },
    {
      "cell_type": "code",
      "source": [
        "# Chegando a tipagem da variável 'modelo'.\n",
        "type(modelo)"
      ],
      "metadata": {
        "id": "yIzr4g08-zg0"
      },
      "execution_count": null,
      "outputs": []
    },
    {
      "cell_type": "code",
      "source": [
        "# Treinando o modelo.\n",
        "modelo .fit(X, Y)"
      ],
      "metadata": {
        "id": "BURlcLA5-98J"
      },
      "execution_count": null,
      "outputs": []
    },
    {
      "cell_type": "code",
      "source": [
        "# Vamos prever o preço da pizza de 35 cm de diâmetro.\n",
        "print(f\"Uma pizza de 35cm de diâmetro deve custar: R$ {modelo.predict([[35]])}\")\n",
        "\n",
        "# Y é o valor previsto da variável dependente (em nosso exemplo o preço da pizza).\n",
        "# X é a variável explanatória (o diâmtro da pizza).\n",
        "# Alfa é o termo de interceção ou coeficiente linear.\n",
        "# Beta é o coefiencie de cada variável ou coeficiente angular."
      ],
      "metadata": {
        "id": "-YSmuuWX_TXz"
      },
      "execution_count": null,
      "outputs": []
    },
    {
      "cell_type": "code",
      "source": [
        "# Métricas de ML = Regressão Linear.\n",
        "# Coeficientes:\n",
        "print('Coeficientes:', modelo.coef_)\n",
        "\n",
        "# MSE (Mean Square Error).\n",
        "print('MSE: %.2f' % np.mean((modelo.predict(X) - Y) ** 2))\n",
        "\n",
        "# Score da variação: 1 representa a predição perfeita.\n",
        "print('Score de variação: %.2f' % modelo.score(X, Y))"
      ],
      "metadata": {
        "id": "tamAGBUcAYDz"
      },
      "execution_count": null,
      "outputs": []
    },
    {
      "cell_type": "code",
      "source": [
        "# Scatter Plot representando a regressão linear.\n",
        "plt.scatter(X, Y, color = 'black')\n",
        "plt.plot(X, modelo.predict(X), color = 'blue', linewidth = 3)\n",
        "plt.xlabel(\"X\")\n",
        "plt.ylabel(\"Y\")\n",
        "plt.xticks\n",
        "plt.yticks\n",
        "\n",
        "plt.show()"
      ],
      "metadata": {
        "id": "pOihuSk-Bi-U"
      },
      "execution_count": null,
      "outputs": []
    },
    {
      "cell_type": "markdown",
      "source": [
        "# Predição de preço de casas.\n",
        "\n",
        "07 de Junho de 2024."
      ],
      "metadata": {
        "id": "IjUNjp6TDNB4"
      }
    },
    {
      "cell_type": "code",
      "source": [
        "# Importando os módulos do exercício.\n",
        "import numpy as np\n",
        "import matplotlib.pyplot as plt\n",
        "import pandas as pd\n",
        "import scipy.stats as stats\n",
        "import sklearn\n",
        "\n",
        "%matplotlib inline"
      ],
      "metadata": {
        "id": "xANI063EDsPK"
      },
      "execution_count": null,
      "outputs": []
    },
    {
      "cell_type": "code",
      "source": [
        "# Importando dataset.\n",
        "from sklearn.datasets import fetch_california_housing\n",
        "housing = fetch_california_housing()"
      ],
      "metadata": {
        "id": "5iRFFMjhD-v7"
      },
      "execution_count": null,
      "outputs": []
    },
    {
      "cell_type": "code",
      "source": [
        "# Checando o tamanho da tabelo e dos dados.\n",
        "housing.data.shape"
      ],
      "metadata": {
        "id": "FtnhvHFSEU3l"
      },
      "execution_count": null,
      "outputs": []
    },
    {
      "cell_type": "code",
      "source": [
        "print(housing.DESCR)"
      ],
      "metadata": {
        "id": "chiItgvhEZhu"
      },
      "execution_count": null,
      "outputs": []
    },
    {
      "cell_type": "code",
      "source": [
        "# Convertendo o dataset em um DataFrame de Pandas.\n",
        "df = pd.DataFrame(housing.data)\n",
        "df.head()"
      ],
      "metadata": {
        "id": "CjJR5-qQEvcU"
      },
      "execution_count": null,
      "outputs": []
    },
    {
      "cell_type": "code",
      "source": [
        "# Nome das colunas.\n",
        "print(housing.feature_names)"
      ],
      "metadata": {
        "id": "IgEFA6K4FEOV"
      },
      "execution_count": null,
      "outputs": []
    },
    {
      "cell_type": "code",
      "source": [
        "# Inserindo o nome das colunas na tabela.\n",
        "df.columns = housing.feature_names\n",
        "df.head()"
      ],
      "metadata": {
        "id": "XWRES7VUFKLS"
      },
      "execution_count": null,
      "outputs": []
    },
    {
      "cell_type": "code",
      "source": [
        "# Housing.target é um array com o preço das casas.\n",
        "housing.target"
      ],
      "metadata": {
        "id": "3gir4D7UFNv6"
      },
      "execution_count": null,
      "outputs": []
    },
    {
      "cell_type": "code",
      "source": [
        "# Checando o número de instâncias.\n",
        "housing.target.size"
      ],
      "metadata": {
        "id": "2KF6GKGcF3td"
      },
      "execution_count": null,
      "outputs": []
    },
    {
      "cell_type": "code",
      "source": [
        "# Adicionando uma tabela target ao DataFrame.\n",
        "df['PRICE'] = housing.target\n",
        "df.head()"
      ],
      "metadata": {
        "id": "ofgWURsbGFAT"
      },
      "execution_count": null,
      "outputs": []
    },
    {
      "cell_type": "markdown",
      "source": [
        "# Prevendo o preço das casas na California.\n",
        "\n",
        "07 de Junho de 2024."
      ],
      "metadata": {
        "id": "8HprrZMLHXb_"
      }
    },
    {
      "cell_type": "markdown",
      "source": [
        "### Y - variável dependente (preço das casas na California).\n",
        "\n",
        "### X - variáveis independentes ou explanatórias (todas as outras características da casa)."
      ],
      "metadata": {
        "id": "1cq7PwxSHk93"
      }
    },
    {
      "cell_type": "code",
      "source": [
        "# Importando o módulo de regressão linear.\n",
        "from sklearn.linear_model import LinearRegression"
      ],
      "metadata": {
        "id": "_RT-yddAHc41"
      },
      "execution_count": null,
      "outputs": []
    },
    {
      "cell_type": "code",
      "source": [
        "# Não queremos o preço da casa como variável dependente.\n",
        "X = df.drop('PRICE', axis = 1)"
      ],
      "metadata": {
        "id": "a9C3cadFIR0k"
      },
      "execution_count": null,
      "outputs": []
    },
    {
      "cell_type": "code",
      "source": [
        "df.head()"
      ],
      "metadata": {
        "id": "QoL6C4prMM6b"
      },
      "execution_count": null,
      "outputs": []
    },
    {
      "cell_type": "code",
      "source": [
        "# Definindo Y.\n",
        "Y = df.PRICE"
      ],
      "metadata": {
        "id": "zZD66nJvIi4x"
      },
      "execution_count": null,
      "outputs": []
    },
    {
      "cell_type": "code",
      "source": [
        "plt.scatter(X.AveRooms, Y)\n",
        "plt.xlabel('Número médio de quartos por casa')\n",
        "plt.ylabel('Preço da Casa')\n",
        "plt.title(\"Relação entre número de quartos e preço\")\n",
        "plt.show()"
      ],
      "metadata": {
        "id": "wXIxYtJSJLbm"
      },
      "execution_count": null,
      "outputs": []
    },
    {
      "cell_type": "code",
      "source": [
        "# Criando o objeto de regressão linear.\n",
        "regr = LinearRegression()"
      ],
      "metadata": {
        "id": "hN4fx5xoKT5e"
      },
      "execution_count": null,
      "outputs": []
    },
    {
      "cell_type": "code",
      "source": [
        "# Treinando o modelo.\n",
        "regr.fit(X, Y)"
      ],
      "metadata": {
        "id": "hNUy6nwwKZEm"
      },
      "execution_count": null,
      "outputs": []
    },
    {
      "cell_type": "code",
      "source": [
        "# Coeficients.\n",
        "print('Coeficiente: \\n', regr.intercept_)\n",
        "print(\"Número de coeficientes: \", len(regr.coef_))"
      ],
      "metadata": {
        "id": "ImWNO8D-Kufq"
      },
      "execution_count": null,
      "outputs": []
    },
    {
      "cell_type": "code",
      "source": [
        "# Prevendo o preço da casa.\n",
        "regr.predict(X)"
      ],
      "metadata": {
        "id": "HPiuIV1eLQgF"
      },
      "execution_count": null,
      "outputs": []
    },
    {
      "cell_type": "code",
      "source": [
        "# Comparando preços originais x preços previstos.\n",
        "plt.scatter(df.PRICE, regr.predict(X))\n",
        "plt.xlabel(\"Preço Original\")\n",
        "plt.ylabel(\"Preço Previsto\")\n",
        "plt.title(\"Preço Original x Preço Previsto\")\n",
        "plt.show()"
      ],
      "metadata": {
        "id": "NoQwR9a0LiWF"
      },
      "execution_count": null,
      "outputs": []
    },
    {
      "cell_type": "code",
      "source": [
        "# Calculando o MSE (Mean Squared Error).\n",
        "mse1 = np.mean((df.PRICE - regr.predict(X)) ** 2)\n",
        "print(\"Mean Squared Error (Erro médio quadrático):\", mse1)"
      ],
      "metadata": {
        "id": "M1ziQPyuMpak"
      },
      "execution_count": null,
      "outputs": []
    },
    {
      "cell_type": "code",
      "source": [
        "# Aplicando regressão linear para apenas uma variável e calculando o MSE.\n",
        "regr = LinearRegression()\n",
        "regr.fit(X[['HouseAge']], df.PRICE)\n",
        "\n",
        "mse2 = np.mean((df.PRICE - regr.predict(X[['HouseAge']])) ** 2)\n",
        "print(\"Mean Squared Error (Erro médio quadrático):\", mse2)"
      ],
      "metadata": {
        "id": "WQgwmXpdNrpV"
      },
      "execution_count": null,
      "outputs": []
    },
    {
      "cell_type": "markdown",
      "source": [
        "##### O MSE aumentou, indicando que uma única feature como essa não é um bom preditor para o preço das casas.\n",
        "\n",
        "##### Na prática, você NÃO vai implementar regressão linear em todo o dataset e nem em uma feature só, você vai dividir o dataset em datasets de treino e de teste. Assim, você treina o seu modelo nos dados de treinos e depois verifica com o modelo se comporta nos seus dados de teste."
      ],
      "metadata": {
        "id": "i30bwV96OeIS"
      }
    },
    {
      "cell_type": "code",
      "source": [
        "# Dividindo X em dados de treino e de teste.\n",
        "X_treino = X[:-70]\n",
        "X_teste = X[-30:]\n",
        "\n",
        "# Dividindo Y em dados de treino e de teste.\n",
        "Y_treino = df.PRICE[:-70]\n",
        "Y_teste = df.PRICE[-30:]\n",
        "\n",
        "# Imprimindo o shape dos datasets.\n",
        "print(X_treino.shape)\n",
        "print(X_teste.shape)\n",
        "print(Y_treino.shape)\n",
        "print(Y_teste.shape)"
      ],
      "metadata": {
        "id": "Z2yDZk28PI8l"
      },
      "execution_count": null,
      "outputs": []
    },
    {
      "cell_type": "markdown",
      "source": [
        "### Podemos criar nossos datasets de treino de forma manual, mas claro este não é um método correto. Vamos então dividir os datasets randomicamente. O Scikit-Learn provê uma função chamada train_test_split( ) para isso:"
      ],
      "metadata": {
        "id": "pCsLTP96QipO"
      }
    },
    {
      "cell_type": "code",
      "source": [
        "# Importando.\n",
        "from sklearn.model_selection import train_test_split"
      ],
      "metadata": {
        "id": "VchAfIyeQgad"
      },
      "execution_count": null,
      "outputs": []
    },
    {
      "cell_type": "code",
      "source": [
        "# Dividindo o X e Y em dados de treino e de teste.\n",
        "X_treino, X_teste, Y_treino, Y_teste = train_test_split(X, df.PRICE, test_size = 0.30, random_state = 5)\n",
        "\n",
        "# Imprimindo o shape dos datasets.\n",
        "print(X_treino.shape)\n",
        "print(X_teste.shape)\n",
        "print(Y_treino.shape)\n",
        "print(Y_teste.shape)"
      ],
      "metadata": {
        "id": "-6tEYAhvRGUM"
      },
      "execution_count": null,
      "outputs": []
    },
    {
      "cell_type": "code",
      "source": [
        "# Construindo um modelo de regressão.\n",
        "regr = LinearRegression()"
      ],
      "metadata": {
        "id": "SSnfEC_VR1x3"
      },
      "execution_count": null,
      "outputs": []
    },
    {
      "cell_type": "code",
      "source": [
        "# Treinando o modelo.\n",
        "regr.fit(X_treino, Y_treino)"
      ],
      "metadata": {
        "id": "mBvvRd4lR-Bc"
      },
      "execution_count": null,
      "outputs": []
    },
    {
      "cell_type": "code",
      "source": [
        "# Definindo dados de treino e de teste.\n",
        "pred_treino = regr.predict(X_treino)\n",
        "pred_teste = regr.predict(X_teste)"
      ],
      "metadata": {
        "id": "Fx9sd3iESDuG"
      },
      "execution_count": null,
      "outputs": []
    },
    {
      "cell_type": "code",
      "source": [
        "# Comparando preços originais x preços previstos.\n",
        "plt.scatter(regr.predict(X_treino), regr.predict(X_treino) - Y_treino, c = 'g', s = 40, alpha = 0.5)\n",
        "plt.scatter(regr.predict(X_teste), regr.predict(X_teste) - Y_teste, c = 'r', s = 40, alpha = 0.5)\n",
        "plt.hlines(y = 0, xmin = 0, xmax = 50)\n",
        "plt.ylabel(\"Resíduos\")\n",
        "plt.title(\"Residual Plot - Treino (Azul), Teste (Verde)\")\n",
        "plt.show()"
      ],
      "metadata": {
        "id": "YqNhGK9pSOY5"
      },
      "execution_count": null,
      "outputs": []
    }
  ]
}