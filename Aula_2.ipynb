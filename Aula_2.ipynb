{
  "nbformat": 4,
  "nbformat_minor": 0,
  "metadata": {
    "colab": {
      "provenance": [],
      "collapsed_sections": [
        "XTY4ePVzelJ9"
      ],
      "toc_visible": true,
      "authorship_tag": "ABX9TyP5zIHiDTRobhdUXHNkGfp0",
      "include_colab_link": true
    },
    "kernelspec": {
      "name": "python3",
      "display_name": "Python 3"
    },
    "language_info": {
      "name": "python"
    }
  },
  "cells": [
    {
      "cell_type": "markdown",
      "metadata": {
        "id": "view-in-github",
        "colab_type": "text"
      },
      "source": [
        "<a href=\"https://colab.research.google.com/github/mtcorreia/CI_AI_ADS/blob/main/Aula_2.ipynb\" target=\"_parent\"><img src=\"https://colab.research.google.com/assets/colab-badge.svg\" alt=\"Open In Colab\"/></a>"
      ]
    },
    {
      "cell_type": "markdown",
      "source": [
        "# LISTAS - Revisão"
      ],
      "metadata": {
        "id": "XTY4ePVzelJ9"
      }
    },
    {
      "cell_type": "code",
      "execution_count": null,
      "metadata": {
        "id": "sU_oR1mMbcQ4"
      },
      "outputs": [],
      "source": [
        "# Criando uma lista.\n",
        "listaMercado = [\"ovos, sardinha, pão, aipim\"]\n",
        "\n",
        "print(listaMercado)"
      ]
    },
    {
      "cell_type": "code",
      "source": [
        "lista1 = [12, 100, \"SENAC\"]\n",
        "\n",
        "item1 = lista1[0]\n",
        "item2 = lista1[1]\n",
        "item3 = lista1[2]\n",
        "\n",
        "print(item1, item3)"
      ],
      "metadata": {
        "id": "yBA8P269cfZd"
      },
      "execution_count": null,
      "outputs": []
    },
    {
      "cell_type": "code",
      "source": [
        "del lista1[2]\n",
        "\n",
        "print(lista1)"
      ],
      "metadata": {
        "id": "Mc-gJEtVfLEY"
      },
      "execution_count": null,
      "outputs": []
    },
    {
      "cell_type": "code",
      "source": [
        "# Lista de listas ou listas aninhadas.\n",
        "\n",
        "listas = [[1, 2, 3], [10, 15, 20], [10.1, 15.4, 19.7]]\n",
        "\n",
        "listas"
      ],
      "metadata": {
        "id": "j83-1FTSfat-"
      },
      "execution_count": null,
      "outputs": []
    },
    {
      "cell_type": "code",
      "source": [
        "a = listas[0]\n",
        "a"
      ],
      "metadata": {
        "id": "K4gOC9UPgBsU"
      },
      "execution_count": null,
      "outputs": []
    },
    {
      "cell_type": "code",
      "source": [
        "b = a[0]\n",
        "b"
      ],
      "metadata": {
        "id": "PaWR_F32gug1"
      },
      "execution_count": null,
      "outputs": []
    },
    {
      "cell_type": "code",
      "source": [
        "# Operador IN\n",
        "print(listas[0])\n",
        "print(2 in listas[0])\n",
        "print(10 in listas[0])"
      ],
      "metadata": {
        "id": "TE7df3TmhmMP"
      },
      "execution_count": null,
      "outputs": []
    },
    {
      "cell_type": "code",
      "source": [
        "# Função LEN\n",
        "print(len(listas[0]))"
      ],
      "metadata": {
        "id": "lVfxZVrJh3z2"
      },
      "execution_count": null,
      "outputs": []
    },
    {
      "cell_type": "code",
      "source": [
        "# Função MIN e MAX **\n",
        "print(listas)\n",
        "print(min(listas[0]))\n",
        "print(max(listas[0]))\n",
        "print()\n",
        "print(min(listas))\n",
        "print(max(listas))"
      ],
      "metadata": {
        "id": "0mG1wJshi7YD"
      },
      "execution_count": null,
      "outputs": []
    },
    {
      "cell_type": "code",
      "source": [
        "# Função COUNT (retorna a quantidade de vezes que o valor aparece)\n",
        "listas[0].count(2)"
      ],
      "metadata": {
        "id": "hl2qF5hClp_P"
      },
      "execution_count": null,
      "outputs": []
    },
    {
      "cell_type": "code",
      "source": [
        "# Função APPEND\n",
        "listas.append([6, 7, 8])\n",
        "listas"
      ],
      "metadata": {
        "id": "tsfFkqRwmY__"
      },
      "execution_count": null,
      "outputs": []
    },
    {
      "cell_type": "code",
      "source": [
        "# Função EXTEND (injeta dados por último)\n",
        "cidades = ['Recife', 'Manaus', 'Salvador']\n",
        "cidades.extend(['Fortaleza', 'São Paulo'])\n",
        "cidades"
      ],
      "metadata": {
        "id": "Ex5bR2q7nP-R"
      },
      "execution_count": null,
      "outputs": []
    },
    {
      "cell_type": "code",
      "source": [
        "# Função INSERT (passe o índice onde entrara o dado)\n",
        "cidades.insert(3, 'Rio de Janeiro')\n",
        "cidades"
      ],
      "metadata": {
        "id": "1MC_RLmsnvlE"
      },
      "execution_count": null,
      "outputs": []
    },
    {
      "cell_type": "code",
      "source": [
        "# Função REMOVE (remoção sem índice [busca pelo dado que é passado])\n",
        "cidades.remove('Rio de Janeiro')\n",
        "cidades"
      ],
      "metadata": {
        "id": "bgaTmfh_oBkX"
      },
      "execution_count": null,
      "outputs": []
    },
    {
      "cell_type": "code",
      "source": [
        "# Função REVERSE (inverte a lista)\n",
        "cidades.reverse()\n",
        "cidades"
      ],
      "metadata": {
        "id": "5BY-csFvoJrO"
      },
      "execution_count": null,
      "outputs": []
    },
    {
      "cell_type": "code",
      "source": [
        "# Função SORT (ordenação crescente [por STRING é em ordem alfabética])\n",
        "cidades.sort()\n",
        "cidades"
      ],
      "metadata": {
        "id": "25Hz8Dn2oWVM"
      },
      "execution_count": null,
      "outputs": []
    },
    {
      "cell_type": "markdown",
      "source": [
        "# DICIONÁRIO - Revisão"
      ],
      "metadata": {
        "id": "TOCKuIYqorPb"
      }
    },
    {
      "cell_type": "code",
      "source": [
        "dicionario_de_estudantes = {'Maria':15, 'João':20, 'José':25}\n",
        "dicionario_de_estudantes"
      ],
      "metadata": {
        "id": "oKNxTX_XoyzG"
      },
      "execution_count": null,
      "outputs": []
    },
    {
      "cell_type": "code",
      "source": [
        "# Função CLEAR\n",
        "dicionario_de_estudantes.clear()\n",
        "dicionario_de_estudantes"
      ],
      "metadata": {
        "id": "l6X57noppt7z"
      },
      "execution_count": null,
      "outputs": []
    },
    {
      "cell_type": "code",
      "source": [
        "len(dicionario_de_estudantes)"
      ],
      "metadata": {
        "id": "cfZz0XEkp3qI"
      },
      "execution_count": null,
      "outputs": []
    },
    {
      "cell_type": "code",
      "source": [
        "# Função KEYS\n",
        "dicionario_de_estudantes.keys()"
      ],
      "metadata": {
        "id": "58pT25qdp83c"
      },
      "execution_count": null,
      "outputs": []
    },
    {
      "cell_type": "code",
      "source": [
        "# Função VALUES\n",
        "dicionario_de_estudantes.values()"
      ],
      "metadata": {
        "id": "k1pajIcTqIXe"
      },
      "execution_count": null,
      "outputs": []
    },
    {
      "cell_type": "code",
      "source": [
        "# Função UPDATE (faz o merge dos dicionários)\n",
        "dicionario_de_estudantes2 = {'Clayton': 46}\n",
        "dicionario_de_estudantes.update(dicionario_de_estudantes2)\n",
        "dicionario_de_estudantes"
      ],
      "metadata": {
        "id": "3lYpK5Otq_NG"
      },
      "execution_count": null,
      "outputs": []
    },
    {
      "cell_type": "code",
      "source": [
        "dicionario_de_estudantes['João']"
      ],
      "metadata": {
        "id": "9qerQEoHrJpo"
      },
      "execution_count": null,
      "outputs": []
    },
    {
      "cell_type": "code",
      "source": [
        "dicionario_de_estudantes3 = {1: ['Maria', 15, 'Av. Brasil 1000'], 2: ['Matheus', 24, 'Av. Brasil 1001'], 3: ['João', 30, 'Av. Brasil 1002']}\n",
        "dicionario_de_estudantes3[1]"
      ],
      "metadata": {
        "id": "ZWCxl3wZru_2"
      },
      "execution_count": null,
      "outputs": []
    }
  ]
}