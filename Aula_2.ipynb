{
  "nbformat": 4,
  "nbformat_minor": 0,
  "metadata": {
    "colab": {
      "provenance": [],
      "collapsed_sections": [
        "XTY4ePVzelJ9"
      ],
      "toc_visible": true,
      "authorship_tag": "ABX9TyP5zIHiDTRobhdUXHNkGfp0",
      "include_colab_link": true
    },
    "kernelspec": {
      "name": "python3",
      "display_name": "Python 3"
    },
    "language_info": {
      "name": "python"
    }
  },
  "cells": [
    {
      "cell_type": "markdown",
      "metadata": {
        "id": "view-in-github",
        "colab_type": "text"
      },
      "source": [
        "<a href=\"https://colab.research.google.com/github/mtcorreia/CI_AI_ADS/blob/main/Aula_2.ipynb\" target=\"_parent\"><img src=\"https://colab.research.google.com/assets/colab-badge.svg\" alt=\"Open In Colab\"/></a>"
      ]
    },
    {
      "cell_type": "markdown",
      "source": [
        "# LISTAS - Revisão"
      ],
      "metadata": {
        "id": "XTY4ePVzelJ9"
      }
    },
    {
      "cell_type": "code",
      "execution_count": null,
      "metadata": {
        "id": "sU_oR1mMbcQ4"
      },
      "outputs": [],
      "source": [
        "# Criando uma lista.\n",
        "listaMercado = [\"ovos, sardinha, pão, aipim\"]\n",
        "\n",
        "print(listaMercado)"
      ]
    },
    {
      "cell_type": "code",
      "source": [
        "lista1 = [12, 100, \"SENAC\"]\n",
        "\n",
        "item1 = lista1[0]\n",
        "item2 = lista1[1]\n",
        "item3 = lista1[2]\n",
        "\n",
        "print(item1, item3)"
      ],
      "metadata": {
        "id": "yBA8P269cfZd"
      },
      "execution_count": null,
      "outputs": []
    },
    {
      "cell_type": "code",
      "source": [
        "del lista1[2]\n",
        "\n",
        "print(lista1)"
      ],
      "metadata": {
        "id": "Mc-gJEtVfLEY"
      },
      "execution_count": null,
      "outputs": []
    },
    {
      "cell_type": "code",
      "source": [
        "# Lista de listas ou listas aninhadas.\n",
        "\n",
        "listas = [[1, 2, 3], [10, 15, 20], [10.1, 15.4, 19.7]]\n",
        "\n",
        "listas"
      ],
      "metadata": {
        "colab": {
          "base_uri": "https://localhost:8080/"
        },
        "id": "j83-1FTSfat-",
        "outputId": "c322a520-6f20-4dbe-80b2-f8ceac99312f"
      },
      "execution_count": null,
      "outputs": [
        {
          "output_type": "execute_result",
          "data": {
            "text/plain": [
              "[[1, 2, 3], [10, 15, 20], [10.1, 15.4, 19.7]]"
            ]
          },
          "metadata": {},
          "execution_count": 59
        }
      ]
    },
    {
      "cell_type": "code",
      "source": [
        "a = listas[0]\n",
        "a"
      ],
      "metadata": {
        "id": "K4gOC9UPgBsU"
      },
      "execution_count": null,
      "outputs": []
    },
    {
      "cell_type": "code",
      "source": [
        "b = a[0]\n",
        "b"
      ],
      "metadata": {
        "id": "PaWR_F32gug1"
      },
      "execution_count": null,
      "outputs": []
    },
    {
      "cell_type": "code",
      "source": [
        "# Operador IN\n",
        "print(listas[0])\n",
        "print(2 in listas[0])\n",
        "print(10 in listas[0])"
      ],
      "metadata": {
        "colab": {
          "base_uri": "https://localhost:8080/"
        },
        "id": "TE7df3TmhmMP",
        "outputId": "6aa405b4-db21-4549-faf5-a6cebc592a5e"
      },
      "execution_count": null,
      "outputs": [
        {
          "output_type": "stream",
          "name": "stdout",
          "text": [
            "[1, 2, 3]\n",
            "True\n",
            "False\n"
          ]
        }
      ]
    },
    {
      "cell_type": "code",
      "source": [
        "# Função LEN\n",
        "print(len(listas[0]))"
      ],
      "metadata": {
        "colab": {
          "base_uri": "https://localhost:8080/"
        },
        "id": "lVfxZVrJh3z2",
        "outputId": "3f0f5107-85ad-4b9e-c5e1-b0a195589564"
      },
      "execution_count": null,
      "outputs": [
        {
          "output_type": "stream",
          "name": "stdout",
          "text": [
            "3\n"
          ]
        }
      ]
    },
    {
      "cell_type": "code",
      "source": [
        "# Função MIN e MAX **\n",
        "print(listas)\n",
        "print(min(listas[0]))\n",
        "print(max(listas[0]))\n",
        "print()\n",
        "print(min(listas))\n",
        "print(max(listas))"
      ],
      "metadata": {
        "colab": {
          "base_uri": "https://localhost:8080/"
        },
        "id": "0mG1wJshi7YD",
        "outputId": "87175140-ed2e-425f-e4cb-93fbd8b97da8"
      },
      "execution_count": null,
      "outputs": [
        {
          "output_type": "stream",
          "name": "stdout",
          "text": [
            "[[1, 2, 3], [11, 15, 20], [10.1, 15.4, 19.7]]\n",
            "1\n",
            "3\n",
            "\n",
            "[1, 2, 3]\n",
            "[11, 15, 20]\n"
          ]
        }
      ]
    },
    {
      "cell_type": "code",
      "source": [
        "# Função COUNT (retorna a quantidade de vezes que o valor aparece)\n",
        "listas[0].count(2)"
      ],
      "metadata": {
        "colab": {
          "base_uri": "https://localhost:8080/"
        },
        "id": "hl2qF5hClp_P",
        "outputId": "ba805e9d-65e6-4ed6-e496-447e25301061"
      },
      "execution_count": null,
      "outputs": [
        {
          "output_type": "execute_result",
          "data": {
            "text/plain": [
              "2"
            ]
          },
          "metadata": {},
          "execution_count": 47
        }
      ]
    },
    {
      "cell_type": "code",
      "source": [
        "# Função APPEND\n",
        "listas.append([6, 7, 8])\n",
        "listas"
      ],
      "metadata": {
        "colab": {
          "base_uri": "https://localhost:8080/"
        },
        "id": "tsfFkqRwmY__",
        "outputId": "18b008cc-2801-4a41-924c-7b276ef1de0a"
      },
      "execution_count": null,
      "outputs": [
        {
          "output_type": "execute_result",
          "data": {
            "text/plain": [
              "[[1, 2, 3], [10, 15, 20], [10.1, 15.4, 19.7], [6, 7, 8]]"
            ]
          },
          "metadata": {},
          "execution_count": 60
        }
      ]
    },
    {
      "cell_type": "code",
      "source": [
        "# Função EXTEND (injeta dados por último)\n",
        "cidades = ['Recife', 'Manaus', 'Salvador']\n",
        "cidades.extend(['Fortaleza', 'São Paulo'])\n",
        "cidades"
      ],
      "metadata": {
        "colab": {
          "base_uri": "https://localhost:8080/"
        },
        "id": "Ex5bR2q7nP-R",
        "outputId": "c53555fe-1eb9-4836-fcdd-02f802d650c7"
      },
      "execution_count": null,
      "outputs": [
        {
          "output_type": "execute_result",
          "data": {
            "text/plain": [
              "['Recife', 'Manaus', 'Salvador', 'Fortaleza', 'São Paulo']"
            ]
          },
          "metadata": {},
          "execution_count": 61
        }
      ]
    },
    {
      "cell_type": "code",
      "source": [
        "# Função INSERT (passe o índice onde entrara o dado)\n",
        "cidades.insert(3, 'Rio de Janeiro')\n",
        "cidades"
      ],
      "metadata": {
        "colab": {
          "base_uri": "https://localhost:8080/"
        },
        "id": "1MC_RLmsnvlE",
        "outputId": "d3306b0e-605d-4d5f-86a3-7ec8d4096ed9"
      },
      "execution_count": null,
      "outputs": [
        {
          "output_type": "execute_result",
          "data": {
            "text/plain": [
              "['Recife', 'Manaus', 'Salvador', 'Rio de Janeiro', 'Fortaleza', 'São Paulo']"
            ]
          },
          "metadata": {},
          "execution_count": 62
        }
      ]
    },
    {
      "cell_type": "code",
      "source": [
        "# Função REMOVE (remoção sem índice [busca pelo dado que é passado])\n",
        "cidades.remove('Rio de Janeiro')\n",
        "cidades"
      ],
      "metadata": {
        "colab": {
          "base_uri": "https://localhost:8080/"
        },
        "id": "bgaTmfh_oBkX",
        "outputId": "c30d924e-73b5-453c-bbbe-d0ed7e22d19e"
      },
      "execution_count": null,
      "outputs": [
        {
          "output_type": "execute_result",
          "data": {
            "text/plain": [
              "['Recife', 'Manaus', 'Salvador', 'Fortaleza', 'São Paulo']"
            ]
          },
          "metadata": {},
          "execution_count": 63
        }
      ]
    },
    {
      "cell_type": "code",
      "source": [
        "# Função REVERSE (inverte a lista)\n",
        "cidades.reverse()\n",
        "cidades"
      ],
      "metadata": {
        "colab": {
          "base_uri": "https://localhost:8080/"
        },
        "id": "5BY-csFvoJrO",
        "outputId": "c219d8ea-6efe-445e-97c3-64c52afbcfe2"
      },
      "execution_count": null,
      "outputs": [
        {
          "output_type": "execute_result",
          "data": {
            "text/plain": [
              "['São Paulo', 'Fortaleza', 'Salvador', 'Manaus', 'Recife']"
            ]
          },
          "metadata": {},
          "execution_count": 64
        }
      ]
    },
    {
      "cell_type": "code",
      "source": [
        "# Função SORT (ordenação crescente [por STRING é em ordem alfabética])\n",
        "cidades.sort()\n",
        "cidades"
      ],
      "metadata": {
        "colab": {
          "base_uri": "https://localhost:8080/"
        },
        "id": "25Hz8Dn2oWVM",
        "outputId": "70a5585b-8118-4f64-a928-5d0c69345764"
      },
      "execution_count": null,
      "outputs": [
        {
          "output_type": "execute_result",
          "data": {
            "text/plain": [
              "['Fortaleza', 'Manaus', 'Recife', 'Salvador', 'São Paulo']"
            ]
          },
          "metadata": {},
          "execution_count": 65
        }
      ]
    },
    {
      "cell_type": "markdown",
      "source": [
        "# DICIONÁRIO - Revisão"
      ],
      "metadata": {
        "id": "TOCKuIYqorPb"
      }
    },
    {
      "cell_type": "code",
      "source": [
        "dicionario_de_estudantes = {'Maria':15, 'João':20, 'José':25}\n",
        "dicionario_de_estudantes"
      ],
      "metadata": {
        "colab": {
          "base_uri": "https://localhost:8080/"
        },
        "id": "oKNxTX_XoyzG",
        "outputId": "67c0b5e7-49bb-4a39-c449-69c90dde95a0"
      },
      "execution_count": null,
      "outputs": [
        {
          "output_type": "execute_result",
          "data": {
            "text/plain": [
              "{'Maria': 15, 'João': 20, 'José': 25}"
            ]
          },
          "metadata": {},
          "execution_count": 74
        }
      ]
    },
    {
      "cell_type": "code",
      "source": [
        "# Função CLEAR\n",
        "dicionario_de_estudantes.clear()\n",
        "dicionario_de_estudantes"
      ],
      "metadata": {
        "colab": {
          "base_uri": "https://localhost:8080/"
        },
        "id": "l6X57noppt7z",
        "outputId": "c5c9022d-9d2c-4117-ff4a-f4dd8602a28d"
      },
      "execution_count": null,
      "outputs": [
        {
          "output_type": "execute_result",
          "data": {
            "text/plain": [
              "{}"
            ]
          },
          "metadata": {},
          "execution_count": 70
        }
      ]
    },
    {
      "cell_type": "code",
      "source": [
        "len(dicionario_de_estudantes)"
      ],
      "metadata": {
        "colab": {
          "base_uri": "https://localhost:8080/"
        },
        "id": "cfZz0XEkp3qI",
        "outputId": "572d8d20-8924-48a2-9652-71de4839ff64"
      },
      "execution_count": null,
      "outputs": [
        {
          "output_type": "execute_result",
          "data": {
            "text/plain": [
              "3"
            ]
          },
          "metadata": {},
          "execution_count": 72
        }
      ]
    },
    {
      "cell_type": "code",
      "source": [
        "# Função KEYS\n",
        "dicionario_de_estudantes.keys()"
      ],
      "metadata": {
        "colab": {
          "base_uri": "https://localhost:8080/"
        },
        "id": "58pT25qdp83c",
        "outputId": "00243094-398c-441e-8387-68f3aafae505"
      },
      "execution_count": null,
      "outputs": [
        {
          "output_type": "execute_result",
          "data": {
            "text/plain": [
              "dict_keys(['Maria', 'João', 'José'])"
            ]
          },
          "metadata": {},
          "execution_count": 76
        }
      ]
    },
    {
      "cell_type": "code",
      "source": [
        "# Função VALUES\n",
        "dicionario_de_estudantes.values()"
      ],
      "metadata": {
        "colab": {
          "base_uri": "https://localhost:8080/"
        },
        "id": "k1pajIcTqIXe",
        "outputId": "349e0fac-e634-48d1-fa0b-4607a8670375"
      },
      "execution_count": null,
      "outputs": [
        {
          "output_type": "execute_result",
          "data": {
            "text/plain": [
              "dict_values([15, 20, 25])"
            ]
          },
          "metadata": {},
          "execution_count": 77
        }
      ]
    },
    {
      "cell_type": "code",
      "source": [
        "# Função UPDATE (faz o merge dos dicionários)\n",
        "dicionario_de_estudantes2 = {'Clayton': 46}\n",
        "dicionario_de_estudantes.update(dicionario_de_estudantes2)\n",
        "dicionario_de_estudantes"
      ],
      "metadata": {
        "colab": {
          "base_uri": "https://localhost:8080/"
        },
        "id": "3lYpK5Otq_NG",
        "outputId": "2f49e0e8-18eb-4f5c-c040-8abfe9c7f688"
      },
      "execution_count": null,
      "outputs": [
        {
          "output_type": "execute_result",
          "data": {
            "text/plain": [
              "{'Maria': 15, 'João': 20, 'José': 25, 'Clayton': 46}"
            ]
          },
          "metadata": {},
          "execution_count": 78
        }
      ]
    },
    {
      "cell_type": "code",
      "source": [
        "dicionario_de_estudantes['João']"
      ],
      "metadata": {
        "colab": {
          "base_uri": "https://localhost:8080/"
        },
        "id": "9qerQEoHrJpo",
        "outputId": "7d3754dd-4e12-4ff4-93e6-6f4e55f19d54"
      },
      "execution_count": null,
      "outputs": [
        {
          "output_type": "execute_result",
          "data": {
            "text/plain": [
              "20"
            ]
          },
          "metadata": {},
          "execution_count": 81
        }
      ]
    },
    {
      "cell_type": "code",
      "source": [
        "dicionario_de_estudantes3 = {1: ['Maria', 15, 'Av. Brasil 1000'], 2: ['Matheus', 24, 'Av. Brasil 1001'], 3: ['João', 30, 'Av. Brasil 1002']}\n",
        "dicionario_de_estudantes3[1]"
      ],
      "metadata": {
        "colab": {
          "base_uri": "https://localhost:8080/"
        },
        "id": "ZWCxl3wZru_2",
        "outputId": "67566068-9e38-43de-d8ed-57f865adec65"
      },
      "execution_count": null,
      "outputs": [
        {
          "output_type": "execute_result",
          "data": {
            "text/plain": [
              "['Maria', 15, 'Av. Brasil 1000']"
            ]
          },
          "metadata": {},
          "execution_count": 89
        }
      ]
    }
  ]
}