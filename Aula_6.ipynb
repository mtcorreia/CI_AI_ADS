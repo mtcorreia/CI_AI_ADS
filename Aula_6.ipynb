{
  "nbformat": 4,
  "nbformat_minor": 0,
  "metadata": {
    "colab": {
      "provenance": [],
      "authorship_tag": "ABX9TyNMQxqdSLyHX/f9Tkw6SI8h",
      "include_colab_link": true
    },
    "kernelspec": {
      "name": "python3",
      "display_name": "Python 3"
    },
    "language_info": {
      "name": "python"
    }
  },
  "cells": [
    {
      "cell_type": "markdown",
      "metadata": {
        "id": "view-in-github",
        "colab_type": "text"
      },
      "source": [
        "<a href=\"https://colab.research.google.com/github/mtcorreia/CI_AI_ADS/blob/main/Aula_6.ipynb\" target=\"_parent\"><img src=\"https://colab.research.google.com/assets/colab-badge.svg\" alt=\"Open In Colab\"/></a>"
      ]
    },
    {
      "cell_type": "markdown",
      "source": [
        "# Manipulação de Arquivos\n",
        "12 de Abril de 2024."
      ],
      "metadata": {
        "id": "3iL5qW2Oq7CK"
      }
    },
    {
      "cell_type": "code",
      "source": [
        "texto = \"Cientista de Dados é a profissão mais legal da atualidade.\\n\"\n",
        "texto = texto + \"O Senac tem um curso de Ciência de Dados.\\n\"\n",
        "texto += \"Também existe uma pós-graduação em Big Data.\""
      ],
      "metadata": {
        "id": "a1DefarsrHC9"
      },
      "execution_count": null,
      "outputs": []
    },
    {
      "cell_type": "code",
      "source": [
        "print(texto)"
      ],
      "metadata": {
        "id": "PGds_-XEseu9"
      },
      "execution_count": null,
      "outputs": []
    },
    {
      "cell_type": "code",
      "source": [
        "# Importado o módulo os\n",
        "import os"
      ],
      "metadata": {
        "id": "xZLOiinJst3z"
      },
      "execution_count": null,
      "outputs": []
    },
    {
      "cell_type": "code",
      "source": [
        "# Criando um arquivo.\n",
        "arquivo = open(os.path.join('cientista.txt'), 'w')"
      ],
      "metadata": {
        "id": "dIA1gZo-szT1"
      },
      "execution_count": null,
      "outputs": []
    },
    {
      "cell_type": "code",
      "source": [
        "# Gravando os dados no arquivo.\n",
        "for palavra in texto.split():\n",
        "  arquivo.write(palavra+' ')\n",
        "\n",
        "# Fechando o arquivo.\n",
        "arquivo.close()"
      ],
      "metadata": {
        "id": "yNStyStEtHiF"
      },
      "execution_count": null,
      "outputs": []
    },
    {
      "cell_type": "code",
      "source": [
        "# Lendo o arquivo.\n",
        "arquivo = open('cientista.txt', 'r')\n",
        "conteudo = arquivo.read()\n",
        "arquivo.close()\n",
        "\n",
        "print(conteudo)"
      ],
      "metadata": {
        "id": "WMuVoYMGtsEY"
      },
      "execution_count": null,
      "outputs": []
    },
    {
      "cell_type": "code",
      "source": [
        "# Usando a expressão \"with\".\n",
        "# Com \"with\" o métido close() é executado automanticamente.\n",
        "\n",
        "with open('cientista.txt', 'r') as arquivo:\n",
        "  conteudo = arquivo.read()\n",
        "\n",
        "print(conteudo)"
      ],
      "metadata": {
        "id": "lvlLEaX6uN_l"
      },
      "execution_count": null,
      "outputs": []
    },
    {
      "cell_type": "code",
      "source": [
        "with open('cientista.txt', 'w') as arquivo:\n",
        "  arquivo.write(texto[:21])\n",
        "  arquivo.write('\\n')\n",
        "  arquivo.write(texto[:33])"
      ],
      "metadata": {
        "id": "_9gQMtZXvsxZ"
      },
      "execution_count": null,
      "outputs": []
    },
    {
      "cell_type": "code",
      "source": [
        "# Lendo o arquivo sem 'with'.\n",
        "arquivo = open('cientista.txt', 'r')\n",
        "conteudo = arquivo.read()\n",
        "arquivo.close()\n",
        "\n",
        "print(conteudo)"
      ],
      "metadata": {
        "id": "ZUzPwleDwE5r"
      },
      "execution_count": null,
      "outputs": []
    },
    {
      "cell_type": "code",
      "source": [
        "# Lendo o arquivo com 'with'.\n",
        "with open('cientista.txt', 'r') as arquivo:\n",
        "  conteudo = arquivo.read()\n",
        "\n",
        "print(conteudo)"
      ],
      "metadata": {
        "id": "w0zjILohw7JA"
      },
      "execution_count": null,
      "outputs": []
    },
    {
      "cell_type": "markdown",
      "source": [
        "## Manipulando arquivos CSV (Comma-Separated Values)."
      ],
      "metadata": {
        "id": "yOGCYu5GxfEo"
      }
    },
    {
      "cell_type": "code",
      "source": [
        "# Importando o módulo CSV.\n",
        "import csv"
      ],
      "metadata": {
        "id": "PRM-iD0vxqV_"
      },
      "execution_count": null,
      "outputs": []
    },
    {
      "cell_type": "code",
      "source": [
        "with open('numeros.csv', 'w') as arquivo:\n",
        "  writer = csv.writer(arquivo)\n",
        "  writer.writerow(('primeira', 'segunda', 'terceira'))\n",
        "  writer.writerow((55, 93, 76))\n",
        "  writer.writerow((62, 14, 86))"
      ],
      "metadata": {
        "id": "5eho6QFuxzkS"
      },
      "execution_count": null,
      "outputs": []
    },
    {
      "cell_type": "code",
      "source": [
        "# Leitura de arquivos CSV.\n",
        "with open('numeros.csv', 'r') as arquivo:\n",
        "  leitor = csv.reader(arquivo)\n",
        "  for x in leitor:\n",
        "    print('Número de colunas:', len(x))\n",
        "    print(x)"
      ],
      "metadata": {
        "id": "IU2OKmnQy7s3"
      },
      "execution_count": null,
      "outputs": []
    },
    {
      "cell_type": "code",
      "source": [
        "# Leitura de arquivos CSV filtrando linhas em branco.\n",
        "with open('numeros.csv', 'r', encoding='utf8', newline='\\r\\n') as arquivo:\n",
        "  leitor = csv.reader(arquivo)\n",
        "  for x in leitor:\n",
        "    print('Número de colunas:', len(x))\n",
        "    print(x)"
      ],
      "metadata": {
        "id": "PVILObhY0lsk"
      },
      "execution_count": null,
      "outputs": []
    },
    {
      "cell_type": "code",
      "source": [
        "# Gerando uma lista com dados do arquivo CSV.\n",
        "with open('numeros.csv', 'r') as arquivo:\n",
        "  leitor = csv.reader(arquivo)\n",
        "  dados = list(leitor)"
      ],
      "metadata": {
        "id": "vKxwiDDz1UtL"
      },
      "execution_count": null,
      "outputs": []
    },
    {
      "cell_type": "code",
      "source": [
        "# Imprime info a partir da 2a linha (remove o rótulo).\n",
        "for linha in dados[1:]: # Remove a primeira linha, tirando o rótulo.\n",
        "  print(linha)"
      ],
      "metadata": {
        "colab": {
          "base_uri": "https://localhost:8080/"
        },
        "id": "PEo2BLwY1IhS",
        "outputId": "5b887f8f-9add-4a4c-f300-9108c58ca684"
      },
      "execution_count": null,
      "outputs": [
        {
          "output_type": "stream",
          "name": "stdout",
          "text": [
            "['55', '93', '76']\n",
            "['62', '14', '86']\n"
          ]
        }
      ]
    },
    {
      "cell_type": "markdown",
      "source": [
        "## Manipulação de JSON."
      ],
      "metadata": {
        "id": "O0WoOO6y2dbL"
      }
    },
    {
      "cell_type": "code",
      "source": [
        "# Crindo.\n",
        "dict = {\n",
        "    'nome':'Clayton Escouper das Chagas.',\n",
        "    'linguagem':'Java',\n",
        "    'similar':['Python', 'C', 'Ruby'],\n",
        "    'users':1000000\n",
        "}"
      ],
      "metadata": {
        "id": "SyhtREjA2xAu"
      },
      "execution_count": null,
      "outputs": []
    },
    {
      "cell_type": "code",
      "source": [
        "# Imprimindo o arquivo JSON.\n",
        "for k, v in dict.items():\n",
        "  print(k,v)"
      ],
      "metadata": {
        "colab": {
          "base_uri": "https://localhost:8080/"
        },
        "id": "JOSjKBBI3O8x",
        "outputId": "be624b11-1a30-41bc-9da1-3cd1e3254800"
      },
      "execution_count": null,
      "outputs": [
        {
          "output_type": "stream",
          "name": "stdout",
          "text": [
            "nome Clayton Escouper das Chagas.\n",
            "linguagen Java\n",
            "similar ['Python', 'C', 'Ruby']\n",
            "users 1000000\n"
          ]
        }
      ]
    },
    {
      "cell_type": "code",
      "source": [
        "# Imprimindo só as chaves.\n",
        "print(dict.keys())"
      ],
      "metadata": {
        "colab": {
          "base_uri": "https://localhost:8080/"
        },
        "id": "JceTTnw63aXr",
        "outputId": "a65fc9a1-2426-4b6c-beef-6df52d38390e"
      },
      "execution_count": null,
      "outputs": [
        {
          "output_type": "stream",
          "name": "stdout",
          "text": [
            "dict_keys(['nome', 'linguagen', 'similar', 'users'])\n"
          ]
        }
      ]
    },
    {
      "cell_type": "code",
      "source": [
        "# Imprimindo chave e valor.\n",
        "print(dict.items())"
      ],
      "metadata": {
        "colab": {
          "base_uri": "https://localhost:8080/"
        },
        "id": "u2HECBrk3j0L",
        "outputId": "e0032535-06b5-40c4-9b3b-b09333942208"
      },
      "execution_count": null,
      "outputs": [
        {
          "output_type": "stream",
          "name": "stdout",
          "text": [
            "dict_items([('nome', 'Clayton Escouper das Chagas.'), ('linguagen', 'Java'), ('similar', ['Python', 'C', 'Ruby']), ('users', 1000000)])\n"
          ]
        }
      ]
    },
    {
      "cell_type": "code",
      "source": [
        "# Imprimindo apenas os valores.\n",
        "print(dict.values())"
      ],
      "metadata": {
        "colab": {
          "base_uri": "https://localhost:8080/"
        },
        "id": "9e1ckUAt3qzT",
        "outputId": "384c31bb-3fff-4d92-f09e-4881454880d2"
      },
      "execution_count": null,
      "outputs": [
        {
          "output_type": "stream",
          "name": "stdout",
          "text": [
            "dict_values(['Clayton Escouper das Chagas.', 'Java', ['Python', 'C', 'Ruby'], 1000000])\n"
          ]
        }
      ]
    },
    {
      "cell_type": "code",
      "source": [
        "# Imprimindo apenas a os valores da chave específica.\n",
        "print(dict['similar'])"
      ],
      "metadata": {
        "colab": {
          "base_uri": "https://localhost:8080/"
        },
        "id": "1eEV_zuG3xDS",
        "outputId": "b0e5807a-a6db-4013-eee8-8ec632704823"
      },
      "execution_count": null,
      "outputs": [
        {
          "output_type": "stream",
          "name": "stdout",
          "text": [
            "['Python', 'C', 'Ruby']\n"
          ]
        }
      ]
    },
    {
      "cell_type": "code",
      "source": [
        "# Importando o módulo JSON.\n",
        "import json"
      ],
      "metadata": {
        "id": "qdVq1f244UJS"
      },
      "execution_count": null,
      "outputs": []
    },
    {
      "cell_type": "code",
      "source": [
        "# Imprimindo no formato do dicionário (apenas na memória).\n",
        "json.dumps(dict)"
      ],
      "metadata": {
        "colab": {
          "base_uri": "https://localhost:8080/",
          "height": 35
        },
        "id": "1rXKi1EK4Xtq",
        "outputId": "e05d2b3f-b564-4cf8-d14e-87d8a84df64a"
      },
      "execution_count": null,
      "outputs": [
        {
          "output_type": "execute_result",
          "data": {
            "text/plain": [
              "'{\"nome\": \"Clayton Escouper das Chagas.\", \"linguagen\": \"Java\", \"similar\": [\"Python\", \"C\", \"Ruby\"], \"users\": 1000000}'"
            ],
            "application/vnd.google.colaboratory.intrinsic+json": {
              "type": "string"
            }
          },
          "metadata": {},
          "execution_count": 56
        }
      ]
    },
    {
      "cell_type": "code",
      "source": [
        "# Criando um arquivo JSON.\n",
        "with open('dados.json', 'w') as arquivo:\n",
        "  arquivo.write(json.dumps(dict))"
      ],
      "metadata": {
        "id": "0k-gB1rH4hgC"
      },
      "execution_count": null,
      "outputs": []
    },
    {
      "cell_type": "code",
      "source": [
        "# Leitura de arquivo JSON.\n",
        "with open('dados.json', 'r') as arquivo:\n",
        "  texto = arquivo.read()\n",
        "  data = json.loads(texto)\n",
        "\n",
        "print(data['nome'])"
      ],
      "metadata": {
        "colab": {
          "base_uri": "https://localhost:8080/"
        },
        "id": "ookh1Pbr5qJC",
        "outputId": "d81fd6a3-7d3f-4e5f-c331-fb2f5737e976"
      },
      "execution_count": null,
      "outputs": [
        {
          "output_type": "stream",
          "name": "stdout",
          "text": [
            "Clayton Escouper das Chagas.\n"
          ]
        }
      ]
    },
    {
      "cell_type": "code",
      "source": [
        "# Fazendo a impressão de dados de uma URL.\n",
        "from urllib.request import urlopen\n",
        "response = urlopen('http://vimeo.com/api/v2/video/57733101.json').read().decode('utf8')\n",
        "data = json.loads(response)[0]\n",
        "\n",
        "print('Título:', data['title'])\n",
        "print('URL:', data['url'])\n",
        "print('Duração:', data['duration'])\n",
        "print('Número de visualizações:', data['stats_number_of_plays'])"
      ],
      "metadata": {
        "colab": {
          "base_uri": "https://localhost:8080/"
        },
        "id": "dO_UT8826JUn",
        "outputId": "fb790d2a-4381-41cd-e23d-66321d9c7723"
      },
      "execution_count": null,
      "outputs": [
        {
          "output_type": "stream",
          "name": "stdout",
          "text": [
            "Título: The Good Man trailer\n",
            "URL: https://vimeo.com/57733101\n",
            "Duração: 143\n",
            "Número de visualizações: 6707\n"
          ]
        }
      ]
    }
  ]
}