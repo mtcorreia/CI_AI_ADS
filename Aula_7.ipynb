{
  "nbformat": 4,
  "nbformat_minor": 0,
  "metadata": {
    "colab": {
      "provenance": [],
      "authorship_tag": "ABX9TyPSkQYdnEcVbdWfNQ8W2DeJ",
      "include_colab_link": true
    },
    "kernelspec": {
      "name": "python3",
      "display_name": "Python 3"
    },
    "language_info": {
      "name": "python"
    }
  },
  "cells": [
    {
      "cell_type": "markdown",
      "metadata": {
        "id": "view-in-github",
        "colab_type": "text"
      },
      "source": [
        "<a href=\"https://colab.research.google.com/github/mtcorreia/CI_AI_ADS/blob/main/Aula_7.ipynb\" target=\"_parent\"><img src=\"https://colab.research.google.com/assets/colab-badge.svg\" alt=\"Open In Colab\"/></a>"
      ]
    },
    {
      "cell_type": "markdown",
      "source": [
        "# Acessando Banco de Dados com Python.\n",
        "19 de Abril de 2024."
      ],
      "metadata": {
        "id": "IYcyVGAWsIdP"
      }
    },
    {
      "cell_type": "code",
      "execution_count": null,
      "metadata": {
        "id": "QFOii__mrgJY"
      },
      "outputs": [],
      "source": [
        " # Remove o arquivo com banco de dados SQLite (caso existe).\n",
        "import os\n",
        "os.remove(\"escola.db\") if os.path.exists(\"escola.db\") else None"
      ]
    },
    {
      "cell_type": "code",
      "source": [
        "# Importando o módulo de acesso ao SQLite.\n",
        "import sqlite3"
      ],
      "metadata": {
        "id": "X2aBrmz-u3Sl"
      },
      "execution_count": null,
      "outputs": []
    },
    {
      "cell_type": "code",
      "source": [
        "# Criar uma conexão com o banco de dados.\n",
        "# Se o banco de dados não existir, ele é criado neste momento.\n",
        "con = sqlite3.connect('escola.db')"
      ],
      "metadata": {
        "id": "mge1_AzLu-sV"
      },
      "execution_count": null,
      "outputs": []
    },
    {
      "cell_type": "code",
      "source": [
        "# Checando a tipagem do 'con'.\n",
        "type(con)"
      ],
      "metadata": {
        "colab": {
          "base_uri": "https://localhost:8080/"
        },
        "id": "jARhRIB5ve3n",
        "outputId": "5bca5c0a-bbcc-4208-f90b-9b6bd8fb053e"
      },
      "execution_count": null,
      "outputs": [
        {
          "output_type": "execute_result",
          "data": {
            "text/plain": [
              "sqlite3.Connection"
            ]
          },
          "metadata": {},
          "execution_count": 63
        }
      ]
    },
    {
      "cell_type": "code",
      "source": [
        "# Criando um cursor.\n",
        "# O cursor está para um banco de dados assim como um ponteiro está para a programação.\n",
        "# Lista duplamente encadeada.\n",
        "# Um cursor permite percorrer todos os registros em um conjunto de dados.\n",
        "cur = con.cursor()"
      ],
      "metadata": {
        "id": "sjGjFApiwlsD"
      },
      "execution_count": null,
      "outputs": []
    },
    {
      "cell_type": "code",
      "source": [
        "# Checando a tipagem do 'cur'.\n",
        "type(cur)"
      ],
      "metadata": {
        "colab": {
          "base_uri": "https://localhost:8080/"
        },
        "id": "qn9-WGLfw6kV",
        "outputId": "4b2f7d53-1c2d-4850-c29d-7f1a35ab8fa3"
      },
      "execution_count": null,
      "outputs": [
        {
          "output_type": "execute_result",
          "data": {
            "text/plain": [
              "sqlite3.Cursor"
            ]
          },
          "metadata": {},
          "execution_count": 65
        }
      ]
    },
    {
      "cell_type": "code",
      "source": [
        "# Criando uma instrução SQL.\n",
        "sql_create = 'CREATE TABLE cursos '\\\n",
        "'(id integer primary key, '\\\n",
        "'titulo varchar(100), '\\\n",
        "'categoria varchar(100))'"
      ],
      "metadata": {
        "id": "hjzKhNdGxBs2"
      },
      "execution_count": null,
      "outputs": []
    },
    {
      "cell_type": "code",
      "source": [
        "# Executando a instrução SQL no cursor.\n",
        "cur.execute(sql_create)"
      ],
      "metadata": {
        "colab": {
          "base_uri": "https://localhost:8080/"
        },
        "id": "DKVPT6ijx5-r",
        "outputId": "b84bfe80-8551-49c6-afbd-684fa3d8847e"
      },
      "execution_count": null,
      "outputs": [
        {
          "output_type": "execute_result",
          "data": {
            "text/plain": [
              "<sqlite3.Cursor at 0x7e7300d1cbc0>"
            ]
          },
          "metadata": {},
          "execution_count": 67
        }
      ]
    },
    {
      "cell_type": "code",
      "source": [
        "# Criando outra sentença SQL para inserir registros.\n",
        "sql_insert = 'INSERT INTO cursos VALUES (?, ?, ?)'"
      ],
      "metadata": {
        "id": "6zyBavANzOW9"
      },
      "execution_count": null,
      "outputs": []
    },
    {
      "cell_type": "code",
      "source": [
        "# Dados.\n",
        "recset = [(1000, 'Ciência de Dados', 'ADS'),\n",
        "          (1001, 'Python', 'Redes'),\n",
        "          (1002, 'Desenho Artístico', 'Design')]"
      ],
      "metadata": {
        "id": "nMHKSjDfzaAh"
      },
      "execution_count": null,
      "outputs": []
    },
    {
      "cell_type": "code",
      "source": [
        "# Inserindo todas as linhas ao mesmo tempo.\n",
        "for rec in recset:\n",
        "  cur.execute(sql_insert, rec)"
      ],
      "metadata": {
        "id": "tCkfLnI2znTf"
      },
      "execution_count": null,
      "outputs": []
    },
    {
      "cell_type": "code",
      "source": [
        "# Grava as transações no Banco de Dados.\n",
        "con.commit()"
      ],
      "metadata": {
        "id": "tY68lQnO0VTg"
      },
      "execution_count": null,
      "outputs": []
    },
    {
      "cell_type": "code",
      "source": [
        "# Criando outra sentença SQL para consulta.\n",
        "sql_select = 'SELECT * FROM cursos'\n",
        "cur.execute(sql_select)\n",
        "dados = cur.fetchall()"
      ],
      "metadata": {
        "id": "a_C0WXuw2V6g"
      },
      "execution_count": null,
      "outputs": []
    },
    {
      "cell_type": "code",
      "source": [
        "# Leitura dos dados com print personalizado.\n",
        "print('CURSOS: \\n')\n",
        "for linha in dados:\n",
        "  print('ID: %d, Título: %s, Categoria: %s' % linha)"
      ],
      "metadata": {
        "colab": {
          "base_uri": "https://localhost:8080/"
        },
        "id": "SCJ9E8sJ3G8i",
        "outputId": "c92b7265-dab9-45ba-dbb0-71f35e566ddc"
      },
      "execution_count": null,
      "outputs": [
        {
          "output_type": "stream",
          "name": "stdout",
          "text": [
            "CURSOS: \n",
            "\n",
            "ID: 1000, Título: Ciência de Dados, Categoria: ADS\n",
            "ID: 1001, Título: Python, Categoria: Redes\n",
            "ID: 1002, Título: Desenho Artístico, Categoria: Design\n"
          ]
        }
      ]
    },
    {
      "cell_type": "code",
      "source": [
        "# Leitura dos dados sem print personalizado.\n",
        "for linha in dados:\n",
        "  print(linha)"
      ],
      "metadata": {
        "colab": {
          "base_uri": "https://localhost:8080/"
        },
        "id": "QIJCwq4w4G6h",
        "outputId": "7471b236-d1fb-4b0f-920a-ec52f8f7c74d"
      },
      "execution_count": null,
      "outputs": [
        {
          "output_type": "stream",
          "name": "stdout",
          "text": [
            "(1000, 'Ciência de Dados', 'ADS')\n",
            "(1001, 'Python', 'Redes')\n",
            "(1002, 'Desenho Artístico', 'Design')\n"
          ]
        }
      ]
    },
    {
      "cell_type": "code",
      "source": [
        "# Gerando mais registros.\n",
        "recset = [(1003, 'Inteligência Artificial', 'ADS'),\n",
        "          (1004, 'Java', 'Redes'),\n",
        "          (1005, 'Pintura à óleo', 'Design')]\n",
        "\n",
        "# Inserindo todas as linhas ao mesmo tempo.\n",
        "for rec in recset:\n",
        "  cur.execute(sql_insert, rec)\n",
        "\n",
        "# Grava as transações no Banco de Dados.\n",
        "con.commit()"
      ],
      "metadata": {
        "id": "1fGi6v9r4mWC"
      },
      "execution_count": null,
      "outputs": []
    },
    {
      "cell_type": "code",
      "source": [
        "# Criando outra sentença SQL para consulta.\n",
        "sql_select = 'SELECT * FROM cursos'\n",
        "cur.execute(sql_select)\n",
        "dados = cur.fetchall()\n",
        "\n",
        "# Leitura dos dados com print personalizado.\n",
        "print('CURSOS: \\n')\n",
        "for linha in dados:\n",
        "  print('ID: %d, Título: %s, Categoria: %s' % linha)"
      ],
      "metadata": {
        "colab": {
          "base_uri": "https://localhost:8080/"
        },
        "id": "M-HpmBQC6GjU",
        "outputId": "4c43f288-7146-450f-cc8a-cdae1bd7f146"
      },
      "execution_count": null,
      "outputs": [
        {
          "output_type": "stream",
          "name": "stdout",
          "text": [
            "CURSOS: \n",
            "\n",
            "ID: 1000, Título: Ciência de Dados, Categoria: ADS\n",
            "ID: 1001, Título: Python, Categoria: Redes\n",
            "ID: 1002, Título: Desenho Artístico, Categoria: Design\n",
            "ID: 1003, Título: Inteligência Artificial, Categoria: ADS\n",
            "ID: 1004, Título: Java, Categoria: Redes\n",
            "ID: 1005, Título: Pintura à óleo, Categoria: Design\n"
          ]
        }
      ]
    },
    {
      "cell_type": "code",
      "source": [
        "# Fechando a conexão.\n",
        "con.close()"
      ],
      "metadata": {
        "id": "tmIJ3S386H8r"
      },
      "execution_count": null,
      "outputs": []
    }
  ]
}