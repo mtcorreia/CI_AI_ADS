{
  "nbformat": 4,
  "nbformat_minor": 0,
  "metadata": {
    "colab": {
      "provenance": [],
      "authorship_tag": "ABX9TyMPescdyBxLdhUrEZt2bJ+R",
      "include_colab_link": true
    },
    "kernelspec": {
      "name": "python3",
      "display_name": "Python 3"
    },
    "language_info": {
      "name": "python"
    }
  },
  "cells": [
    {
      "cell_type": "markdown",
      "metadata": {
        "id": "view-in-github",
        "colab_type": "text"
      },
      "source": [
        "<a href=\"https://colab.research.google.com/github/mtcorreia/CI_AI_ADS/blob/main/Aula_11_e_12.ipynb\" target=\"_parent\"><img src=\"https://colab.research.google.com/assets/colab-badge.svg\" alt=\"Open In Colab\"/></a>"
      ]
    },
    {
      "cell_type": "code",
      "execution_count": null,
      "metadata": {
        "id": "-_FeXm11DE5i"
      },
      "outputs": [],
      "source": [
        "!sudo apt install lshw"
      ]
    },
    {
      "cell_type": "code",
      "source": [
        "!cat /etc/os-release"
      ],
      "metadata": {
        "id": "LYPkmSBkFIey"
      },
      "execution_count": null,
      "outputs": []
    },
    {
      "cell_type": "markdown",
      "source": [
        "# Usando IA para descoberta da ocorrência de Diabetes.\n",
        "\n",
        "14 de Junho de 2024."
      ],
      "metadata": {
        "id": "TfEYqnpXFPni"
      }
    },
    {
      "cell_type": "markdown",
      "source": [
        "## Dataset do repositório de ML da UCI/Kaggle.\n"
      ],
      "metadata": {
        "id": "5xBDnPQAFv95"
      }
    },
    {
      "cell_type": "code",
      "source": [
        "# Importando os módulos.\n",
        "import pandas as pd\n",
        "import matplotlib.pyplot as plt\n",
        "import numpy as np\n",
        "\n",
        "%matplotlib inline"
      ],
      "metadata": {
        "id": "9b1W4P0fFOqz"
      },
      "execution_count": null,
      "outputs": []
    },
    {
      "cell_type": "code",
      "source": [
        "# Carregando o dataset.\n",
        "df = pd.read_csv(\"pima-data.csv\")"
      ],
      "metadata": {
        "id": "3gwsCSEXG5rD"
      },
      "execution_count": null,
      "outputs": []
    },
    {
      "cell_type": "code",
      "source": [
        "# Verificando o formato dos dados.\n",
        "df.shape"
      ],
      "metadata": {
        "id": "BTlptpQlHF9f"
      },
      "execution_count": null,
      "outputs": []
    },
    {
      "cell_type": "code",
      "source": [
        "df.describe"
      ],
      "metadata": {
        "id": "NwamNpBbHOzR"
      },
      "execution_count": null,
      "outputs": []
    },
    {
      "cell_type": "code",
      "source": [
        "# Verificando as primeiras linhas do dataset.\n",
        "df.head()"
      ],
      "metadata": {
        "id": "ITqrAuhWHa_A"
      },
      "execution_count": null,
      "outputs": []
    },
    {
      "cell_type": "code",
      "source": [
        "# Verificando as últimas linhas do dataset.\n",
        "df.tail()"
      ],
      "metadata": {
        "id": "dAqdVCWkH1B8"
      },
      "execution_count": null,
      "outputs": []
    },
    {
      "cell_type": "code",
      "source": [
        "# Verificando se existem valores nulos.\n",
        "df.isnull().values.any()"
      ],
      "metadata": {
        "id": "-VfcXFmrH5cc"
      },
      "execution_count": null,
      "outputs": []
    },
    {
      "cell_type": "code",
      "source": [
        "# Identificando a correlação entre as variáveis.\n",
        "# OBS.: Correlação não implica em causalidade.\n",
        "def plot_corr(df, size = 10):\n",
        "  corr = df.corr()\n",
        "  fig, ax = plt.subplots(figsize = (size, size))\n",
        "  ax.matshow(corr)\n",
        "  plt.xticks(range(len(corr.columns)), corr.columns)\n",
        "  plt.yticks(range(len(corr.columns)), corr.columns)"
      ],
      "metadata": {
        "id": "Mn1eAkE9IKe8"
      },
      "execution_count": null,
      "outputs": []
    },
    {
      "cell_type": "code",
      "source": [
        "# Criando o gráfico.\n",
        "plot_corr(df)"
      ],
      "metadata": {
        "id": "FOFStrayI32_"
      },
      "execution_count": null,
      "outputs": []
    },
    {
      "cell_type": "code",
      "source": [
        "# Visualização matricial da correlação.\n",
        "# +1 = forte correlação positiva.\n",
        "# 0 = não há correlação.\n",
        "# -1 = forte correlação negativa.\n",
        "df.corr()"
      ],
      "metadata": {
        "id": "yCOlGLeEJmvP"
      },
      "execution_count": null,
      "outputs": []
    },
    {
      "cell_type": "code",
      "source": [
        "# Definindo as classes.\n",
        "diabetes_map = {True: 1, False: 0}"
      ],
      "metadata": {
        "id": "REa5FfFdKTBS"
      },
      "execution_count": null,
      "outputs": []
    },
    {
      "cell_type": "code",
      "source": [
        "# Aplicando o mapeamento ao dataset.\n",
        "df['diabetes'] = df['diabetes'].map(diabetes_map)"
      ],
      "metadata": {
        "id": "Kg_iIaNdKpl7"
      },
      "execution_count": null,
      "outputs": []
    },
    {
      "cell_type": "code",
      "source": [
        "# Verificando a alteração.\n",
        "df.head(5)"
      ],
      "metadata": {
        "id": "FXqmQ95SLAN-"
      },
      "execution_count": null,
      "outputs": []
    },
    {
      "cell_type": "code",
      "source": [
        "# Verificando como os dados estão distribuídos.\n",
        "num_true = len(df.loc[df['diabetes'] == True])\n",
        "num_false = len(df.loc[df['diabetes'] == False])\n",
        "print(\"Número de Casos Verdadeiros: {0} ({1:2.2f}%)\".format(num_true, (num_true/ (num_true + num_false)) * 100))\n",
        "print(\"Número de Casos Falsos: {0} ({1:2.2f}%)\".format(num_false, (num_false/ (num_true + num_false)) * 100))"
      ],
      "metadata": {
        "id": "nqSUtU4vLoX5"
      },
      "execution_count": null,
      "outputs": []
    },
    {
      "cell_type": "markdown",
      "source": [
        "## Spliting.\n",
        "### 70% para dados de treino e 30% para dados de teste."
      ],
      "metadata": {
        "id": "xtfK3MjWM_o5"
      }
    },
    {
      "cell_type": "code",
      "source": [
        "from IPython.display import Image\n",
        "Image('Treinamento.png')"
      ],
      "metadata": {
        "id": "9BCumrjD3q2U"
      },
      "execution_count": null,
      "outputs": []
    },
    {
      "cell_type": "code",
      "source": [
        "# Importando os módulos.\n",
        "from sklearn.model_selection import train_test_split"
      ],
      "metadata": {
        "id": "wesWEs6yM8zz"
      },
      "execution_count": null,
      "outputs": []
    },
    {
      "cell_type": "code",
      "source": [
        "# Seleção de variáveis preditoras (Feature Selection)\n",
        "atributos = ['num_preg', 'glucose_conc', 'diastolic_bp', 'thickness', 'insulin', 'bmi', 'diab_pred', 'age']"
      ],
      "metadata": {
        "id": "_7poYQ0GO6sn"
      },
      "execution_count": null,
      "outputs": []
    },
    {
      "cell_type": "code",
      "source": [
        "# Variável a ser prevista.\n",
        "atrib_prev = ['diabetes']"
      ],
      "metadata": {
        "id": "YBnHj6pJPdNY"
      },
      "execution_count": null,
      "outputs": []
    },
    {
      "cell_type": "code",
      "source": [
        "# Criando objetos divididos pelos grupos.\n",
        "X = df[atributos].values\n",
        "Y = df[atrib_prev].values\n",
        "X"
      ],
      "metadata": {
        "id": "15dTmRQFPiao"
      },
      "execution_count": null,
      "outputs": []
    },
    {
      "cell_type": "code",
      "source": [
        "Y"
      ],
      "metadata": {
        "id": "WMN6KdWKQXPm"
      },
      "execution_count": null,
      "outputs": []
    },
    {
      "cell_type": "code",
      "source": [
        "# Definindo a taxa de split.\n",
        "split_test_size = 0.30"
      ],
      "metadata": {
        "id": "HDR1Hja6Qi9q"
      },
      "execution_count": null,
      "outputs": []
    },
    {
      "cell_type": "code",
      "source": [
        "# Criando dados de treino e de teste.\n",
        "X_treino, X_teste, Y_treino, Y_teste = train_test_split(X, Y, test_size=split_test_size, random_state=44)"
      ],
      "metadata": {
        "id": "_pL7LaqrRCrv"
      },
      "execution_count": null,
      "outputs": []
    },
    {
      "cell_type": "code",
      "source": [
        "X_treino.shape"
      ],
      "metadata": {
        "id": "XVimImowRX7u"
      },
      "execution_count": null,
      "outputs": []
    },
    {
      "cell_type": "code",
      "source": [
        "X_teste.shape"
      ],
      "metadata": {
        "id": "6L9Dh7vpRhSH"
      },
      "execution_count": null,
      "outputs": []
    },
    {
      "cell_type": "code",
      "source": [
        "Y_teste.shape"
      ],
      "metadata": {
        "id": "mjzDElKmRla8"
      },
      "execution_count": null,
      "outputs": []
    },
    {
      "cell_type": "code",
      "source": [
        "Y_treino.shape"
      ],
      "metadata": {
        "id": "avj6ePfcRrY8"
      },
      "execution_count": null,
      "outputs": []
    },
    {
      "cell_type": "markdown",
      "source": [
        "## Valores Missing Ocultos."
      ],
      "metadata": {
        "id": "lDsPd1DRR4yn"
      }
    },
    {
      "cell_type": "code",
      "source": [
        "# Verificando se existem valores nulos.\n",
        "df.isnull().values.any()"
      ],
      "metadata": {
        "id": "HKjknCE9R1vb"
      },
      "execution_count": null,
      "outputs": []
    },
    {
      "cell_type": "code",
      "source": [
        "df.head()"
      ],
      "metadata": {
        "id": "yXwikiuySR1-"
      },
      "execution_count": null,
      "outputs": []
    },
    {
      "cell_type": "code",
      "source": [
        "print(\"# Linhas no Dataframe {0}\".format(len(df)))\n",
        "print(\"# Linhas missing glucose_conc: {0}\".format(len(df.loc[df['glucose_conc'] == 0])))\n",
        "print(\"# Linhas missing diastolic_bp: {0}\".format(len(df.loc[df['diastolic_bp'] == 0])))\n",
        "print(\"# Linhas missing thickness: {0}\".format(len(df.loc[df['thickness'] == 0])))\n",
        "print(\"# Linhas missing insulin: {0}\".format(len(df.loc[df['insulin'] == 0])))\n",
        "print(\"# Linhas missing bmi: {0}\".format(len(df.loc[df['bmi'] == 0])))\n",
        "print(\"# Linhas missing age: {0}\".format(len(df.loc[df['age'] == 0])))\n"
      ],
      "metadata": {
        "id": "RETEh3F6Sqjt"
      },
      "execution_count": null,
      "outputs": []
    },
    {
      "cell_type": "markdown",
      "source": [
        "## Tratando os dados missing ocultos."
      ],
      "metadata": {
        "id": "hYiHVdD7UZ5F"
      }
    },
    {
      "cell_type": "code",
      "source": [
        "from sklearn.impute import SimpleImputer"
      ],
      "metadata": {
        "id": "_k-osUH-VKlT"
      },
      "execution_count": null,
      "outputs": []
    },
    {
      "cell_type": "code",
      "source": [
        "# Criando o objeto.\n",
        "preenche_0 = SimpleImputer(missing_values=0, strategy=\"mean\")\n",
        "\n",
        "# Substituindo os valores iguais a 0 pela média dos dados.\n",
        "X_treino = preenche_0.fit_transform(X_treino)\n",
        "X_teste = preenche_0.fit_transform(X_teste)"
      ],
      "metadata": {
        "id": "iUqC7ufIVMHa"
      },
      "execution_count": null,
      "outputs": []
    },
    {
      "cell_type": "code",
      "source": [
        "X_treino"
      ],
      "metadata": {
        "id": "AlWFsYjDV1sQ"
      },
      "execution_count": null,
      "outputs": []
    },
    {
      "cell_type": "markdown",
      "source": [
        "## 50% a 80% do tempo de trabalho de um Cientista de Dados é usado na exploração e preparação de dados."
      ],
      "metadata": {
        "id": "Ugz3E9Ok6upv"
      }
    },
    {
      "cell_type": "code",
      "source": [
        "# Utilizando um classificador Naive Bayes.\n",
        "from sklearn.naive_bayes import GaussianNB"
      ],
      "metadata": {
        "id": "kpE_xpdx67rQ"
      },
      "execution_count": null,
      "outputs": []
    },
    {
      "cell_type": "code",
      "source": [
        "# Criando o modelo preditivo.\n",
        "modelo_v1 = GaussianNB()"
      ],
      "metadata": {
        "id": "LdKU95EP6_z-"
      },
      "execution_count": null,
      "outputs": []
    },
    {
      "cell_type": "code",
      "source": [
        "# Treinando o modelo.\n",
        "modelo_v1.fit(X_treino, Y_treino.ravel())"
      ],
      "metadata": {
        "id": "47_xTJGD7HjG"
      },
      "execution_count": null,
      "outputs": []
    },
    {
      "cell_type": "code",
      "source": [
        "# Verificando a exatidão no modelo de dados de treino.\n",
        "from sklearn import metrics"
      ],
      "metadata": {
        "id": "BKcJn79d8PyN"
      },
      "execution_count": null,
      "outputs": []
    },
    {
      "cell_type": "code",
      "source": [
        "nb_predict_train = modelo_v1.predict(X_treino)\n",
        "print(\"Exatidão (Accuracy): {0:.4f}\".format(metrics.accuracy_score(Y_treino, nb_predict_train)))\n",
        "print()"
      ],
      "metadata": {
        "id": "xfHYgl5V8V6W"
      },
      "execution_count": null,
      "outputs": []
    },
    {
      "cell_type": "code",
      "source": [
        "# Verificando a exatidão no modelo dos dados de Testes.\n",
        "nb_predict_teste = modelo_v1.predict(X_teste)\n",
        "print(\"Exatidão (Accuracy): {0:.4f}\".format(metrics.accuracy_score(Y_teste, nb_predict_teste)))\n",
        "print()"
      ],
      "metadata": {
        "id": "aOTa5VegChcB"
      },
      "execution_count": null,
      "outputs": []
    },
    {
      "cell_type": "markdown",
      "source": [
        "## Métricas e Matriz de Confusão."
      ],
      "metadata": {
        "id": "6kAnEZD89vXN"
      }
    },
    {
      "cell_type": "code",
      "source": [
        "from IPython.display import Image\n",
        "Image('ConfusionMatrix.jpg')"
      ],
      "metadata": {
        "id": "8P7KGDBe9yNc"
      },
      "execution_count": null,
      "outputs": []
    },
    {
      "cell_type": "code",
      "source": [
        "# Criando uma Confusion Matrix.\n",
        "print(\"Confusion Matrix\")\n",
        "print(\"{0}\".format(metrics.confusion_matrix(Y_teste, nb_predict_teste), labels = [1, 0]))\n",
        "print(\"\")\n",
        "\n",
        "print(\"Classification Report\")\n",
        "print(metrics.classification_report(Y_teste, nb_predict_teste))"
      ],
      "metadata": {
        "id": "LjrKDlAqBxxi"
      },
      "execution_count": null,
      "outputs": []
    },
    {
      "cell_type": "markdown",
      "source": [
        "## Otimizando o modelo com RandomForest."
      ],
      "metadata": {
        "id": "8300JpfGFHVv"
      }
    },
    {
      "cell_type": "code",
      "source": [
        "from sklearn.ensemble import RandomForestClassifier"
      ],
      "metadata": {
        "id": "Q7-adHfIFL8o"
      },
      "execution_count": null,
      "outputs": []
    },
    {
      "cell_type": "code",
      "source": [
        "modelo_v2 = RandomForestClassifier(random_state=42)\n",
        "modelo_v2.fit(X_treino, Y_treino.ravel())"
      ],
      "metadata": {
        "id": "ovZFGWzkFbOo"
      },
      "execution_count": null,
      "outputs": []
    },
    {
      "cell_type": "code",
      "source": [
        "# Verificando a exatidão do Treino.\n",
        "rf_predict_train = modelo_v2.predict(X_treino)\n",
        "print(\"Exatidão (Accuracy): {0:.4f}\".format(metrics.accuracy_score(Y_treino, rf_predict_train)))\n",
        "print()"
      ],
      "metadata": {
        "id": "7uckLudWFtsI"
      },
      "execution_count": null,
      "outputs": []
    },
    {
      "cell_type": "code",
      "source": [
        "# Verificando a exatidão dos Testes.\n",
        "rf_predict_teste = modelo_v2.predict(X_teste)\n",
        "print(\"Exatidão (Accuracy): {0:.4f}\".format(metrics.accuracy_score(Y_teste, rf_predict_teste)))\n",
        "print()"
      ],
      "metadata": {
        "id": "xzTV_tvUF62X"
      },
      "execution_count": null,
      "outputs": []
    },
    {
      "cell_type": "code",
      "source": [
        "# Criando uma Confusion Matrix.\n",
        "print(\"Confusion Matrix\")\n",
        "print(\"{0}\".format(metrics.confusion_matrix(Y_teste, rf_predict_teste), labels = [1, 0]))\n",
        "print(\"\")\n",
        "\n",
        "print(\"Classification Report\")\n",
        "print(metrics.classification_report(Y_teste, rf_predict_teste))"
      ],
      "metadata": {
        "id": "G8oVs2R8G1We"
      },
      "execution_count": null,
      "outputs": []
    },
    {
      "cell_type": "markdown",
      "source": [
        "## Analisando o desempenho de mais um algoritmo de classificação: REGRESSÃO LOGÍSTICA."
      ],
      "metadata": {
        "id": "Xc_X2wKYHeeP"
      }
    },
    {
      "cell_type": "code",
      "source": [
        "from sklearn.linear_model import LogisticRegression"
      ],
      "metadata": {
        "id": "vx8nKOqoHlnA"
      },
      "execution_count": null,
      "outputs": []
    },
    {
      "cell_type": "code",
      "source": [
        "# Terceira versão do modelo usando Regrssão Logística.\n",
        "modelo_v3 = LogisticRegression(C=0.7, random_state=42)\n",
        "modelo_v3.fit(X_treino, Y_treino.ravel())"
      ],
      "metadata": {
        "id": "au6Vxoi-Hvzt"
      },
      "execution_count": null,
      "outputs": []
    },
    {
      "cell_type": "code",
      "source": [
        "# Verificando a exatidão dos Testes.\n",
        "lr_predict_teste = modelo_v3.predict(X_teste)\n",
        "print(\"Exatidão (Accuracy): {0:.4f}\".format(metrics.accuracy_score(Y_teste, lr_predict_teste)))\n",
        "print()"
      ],
      "metadata": {
        "id": "otdy8K_XIfpd"
      },
      "execution_count": null,
      "outputs": []
    },
    {
      "cell_type": "code",
      "source": [
        "# Criando uma Confusion Matrix.\n",
        "print(\"Confusion Matrix:\")\n",
        "print(\"{0}\".format(metrics.confusion_matrix(Y_teste, lr_predict_teste), labels = [1, 0]))\n",
        "print(\"\")\n",
        "\n",
        "print(\"Classification Report:\")\n",
        "print(metrics.classification_report(Y_teste, lr_predict_teste))"
      ],
      "metadata": {
        "id": "PQV9RMuAIm6N"
      },
      "execution_count": null,
      "outputs": []
    },
    {
      "cell_type": "markdown",
      "source": [
        "## Summary\n",
        "Resultado comparativo do desempenho dos algoritmo de classificação:\n",
        "\n",
        "#### Modelo usando Algoritmo Naive Bayes (v1): 0.79\n",
        "#### Modelo usando Algoritmo RandomForest (v2): 0.77\n",
        "#### Modelo usando Algoritmo Regressão Logística (v3): 0.8\n"
      ],
      "metadata": {
        "id": "jbNt2BaOJAAU"
      }
    },
    {
      "cell_type": "markdown",
      "source": [
        "## Fazendo previsões com o modelo treinado (v3)."
      ],
      "metadata": {
        "id": "8ro5EtunJ0MY"
      }
    },
    {
      "cell_type": "code",
      "source": [
        "import pickle"
      ],
      "metadata": {
        "id": "U1VuwS6-J3cE"
      },
      "execution_count": null,
      "outputs": []
    },
    {
      "cell_type": "code",
      "source": [
        "# Salvando o modelo para usar na minha empresa.\n",
        "filename = 'modelo_treinado_v3.sav'\n",
        "pickle.dump(modelo_v3, open(filename, 'wb'))"
      ],
      "metadata": {
        "id": "6ByRyczTJ8us"
      },
      "execution_count": null,
      "outputs": []
    },
    {
      "cell_type": "code",
      "source": [
        "# Carregando o modelo e fazendo com novos conjunto de dados.\n",
        "loaded_model = pickle.load(open(filename, 'rb'))\n",
        "result = loaded_model.predict(X_teste[15].reshape(1, -1))\n",
        "result2 = loaded_model.predict(X_teste[18].reshape(1, -1))\n",
        "print(result)\n",
        "print(result2)"
      ],
      "metadata": {
        "id": "eFPOVWtsK5h8"
      },
      "execution_count": null,
      "outputs": []
    },
    {
      "cell_type": "code",
      "source": [
        "X_treino[15]"
      ],
      "metadata": {
        "id": "befFtNQfL8wb"
      },
      "execution_count": null,
      "outputs": []
    },
    {
      "cell_type": "code",
      "source": [
        "X_treino[18]"
      ],
      "metadata": {
        "id": "aN91PfBiMO8P"
      },
      "execution_count": null,
      "outputs": []
    },
    {
      "cell_type": "code",
      "source": [
        "df.head(20)"
      ],
      "metadata": {
        "id": "5wg3PRFkMO6y"
      },
      "execution_count": null,
      "outputs": []
    }
  ]
}